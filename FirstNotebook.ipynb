{
  "nbformat": 4,
  "nbformat_minor": 0,
  "metadata": {
    "colab": {
      "provenance": [],
      "authorship_tag": "ABX9TyPDGHFYMBjIFfCxhLl31WId",
      "include_colab_link": true
    },
    "kernelspec": {
      "name": "python3",
      "display_name": "Python 3"
    },
    "language_info": {
      "name": "python"
    }
  },
  "cells": [
    {
      "cell_type": "markdown",
      "metadata": {
        "id": "view-in-github",
        "colab_type": "text"
      },
      "source": [
        "<a href=\"https://colab.research.google.com/github/CampbellAgreev/Campbell/blob/main/FirstNotebook.ipynb\" target=\"_parent\"><img src=\"https://colab.research.google.com/assets/colab-badge.svg\" alt=\"Open In Colab\"/></a>"
      ]
    },
    {
      "cell_type": "code",
      "execution_count": 3,
      "metadata": {
        "colab": {
          "base_uri": "https://localhost:8080/"
        },
        "id": "QsGuFa8iYGtb",
        "outputId": "5668a5e6-5f00-48de-c1cb-e5ae4ada99c1"
      },
      "outputs": [
        {
          "output_type": "stream",
          "name": "stdout",
          "text": [
            "Hello World!\n"
          ]
        }
      ],
      "source": [
        "print(\"Hello World!\")"
      ]
    },
    {
      "cell_type": "code",
      "source": [
        "print(\"Hello,Colab!\")\n",
        "print(\"Hello,Python!\")"
      ],
      "metadata": {
        "colab": {
          "base_uri": "https://localhost:8080/"
        },
        "id": "NSaR4UGHcudd",
        "outputId": "bf38a348-61a8-454b-97c3-d3ea3fa4a9d8"
      },
      "execution_count": 4,
      "outputs": [
        {
          "output_type": "stream",
          "name": "stdout",
          "text": [
            "Hello,Colab!\n",
            "Hello,Python!\n"
          ]
        }
      ]
    },
    {
      "cell_type": "markdown",
      "source": [
        "You can write sentences with markdown notation.\n",
        "$$ y=2x + 1"
      ],
      "metadata": {
        "id": "5o3J8xuugt43"
      }
    },
    {
      "cell_type": "code",
      "source": [],
      "metadata": {
        "id": "_wKaW_T9doSo"
      },
      "execution_count": null,
      "outputs": []
    },
    {
      "cell_type": "markdown",
      "source": [
        "Strong"
      ],
      "metadata": {
        "id": "CP_lnzR-hI5F"
      }
    },
    {
      "cell_type": "code",
      "source": [],
      "metadata": {
        "id": "7nHcpDHghUbN"
      },
      "execution_count": null,
      "outputs": []
    },
    {
      "cell_type": "markdown",
      "source": [
        "When writing python code, use code blocks."
      ],
      "metadata": {
        "id": "uoNqaWGwhVxE"
      }
    },
    {
      "cell_type": "code",
      "source": [],
      "metadata": {
        "id": "SbNCunRwhm9v"
      },
      "execution_count": null,
      "outputs": []
    }
  ]
}